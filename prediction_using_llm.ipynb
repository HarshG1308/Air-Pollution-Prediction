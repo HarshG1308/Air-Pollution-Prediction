{
 "cells": [
  {
   "cell_type": "code",
   "execution_count": 2,
   "metadata": {},
   "outputs": [],
   "source": [
    "import torch\n",
    "import pandas as pd\n",
    "from transformers import T5Tokenizer, T5ForConditionalGeneration, T5Config"
   ]
  },
  {
   "cell_type": "code",
   "execution_count": 3,
   "metadata": {},
   "outputs": [],
   "source": [
    "#Read the data from the Excel file\n",
    "df = pd.read_excel(\"dataset.xlsx\")\n",
    "\n",
    "# Convert date columns to datetime objects\n",
    "df[\"From Date\"] = pd.to_datetime(df[\"From Date\"], format='%d-%m-%Y %H:%M')\n",
    "df[\"To Date\"] = pd.to_datetime(df[\"To Date\"], format='%d-%m-%Y %H:%M')\n",
    "\n",
    "# Prepare the data for fine-tuning the T5 model\n",
    "train_text = ['From ' + from_date.strftime('%Y-%m-%d %H:%M') + ' to ' + to_date.strftime('%Y-%m-%d %H:%M') + ' the PM2.5 was ' + str(pm25) for from_date, to_date, pm25 in zip(df['From Date'], df['To Date'], df['PM2.5'])]"
   ]
  },
  {
   "cell_type": "code",
   "execution_count": 4,
   "metadata": {},
   "outputs": [
    {
     "name": "stderr",
     "output_type": "stream",
     "text": [
      "Special tokens have been added in the vocabulary, make sure the associated word embeddings are fine-tuned or trained.\n"
     ]
    },
    {
     "ename": "",
     "evalue": "",
     "output_type": "error",
     "traceback": [
      "\u001b[1;31mThe Kernel crashed while executing code in the current cell or a previous cell. \n",
      "\u001b[1;31mPlease review the code in the cell(s) to identify a possible cause of the failure. \n",
      "\u001b[1;31mClick <a href='https://aka.ms/vscodeJupyterKernelCrash'>here</a> for more info. \n",
      "\u001b[1;31mView Jupyter <a href='command:jupyter.viewOutput'>log</a> for further details."
     ]
    }
   ],
   "source": [
    "# Initialize the T5 tokenizer and model\n",
    "tokenizer = T5Tokenizer.from_pretrained('t5-small')\n",
    "config = T5Config.from_pretrained('t5-small')\n",
    "model = T5ForConditionalGeneration(config)\n",
    "\n",
    "# Tokenize the input text\n",
    "inputs = tokenizer(train_text, return_tensors='pt', padding=True, truncation=True)\n",
    "\n",
    "# Fine-tune the T5 model\n",
    "optimizer = torch.optim.AdamW(model.parameters(), lr=5e-5)\n",
    "model.train()\n",
    "for epoch in range(1):\n",
    "    optimizer.zero_grad()\n",
    "    outputs = model(**inputs, labels=inputs[\"input_ids\"])\n",
    "    loss = outputs.loss\n",
    "    loss.backward()\n",
    "    optimizer.step()"
   ]
  },
  {
   "cell_type": "code",
   "execution_count": null,
   "metadata": {},
   "outputs": [],
   "source": [
    "# Make predictions\n",
    "next_day_date = df['To Date'].max() + pd.Timedelta(days=1)\n",
    "prompt = f\"From {next_day_date.strftime('%Y-%m-%d %H:%M')} to {(next_day_date + pd.Timedelta(days=1)).strftime('%Y-%m-%d %H:%M')} the PM2.5 was \"\n",
    "input_ids = tokenizer.encode(prompt, return_tensors='pt')\n",
    "output = model.generate(input_ids, max_length=50, num_return_sequences=1)\n",
    "predicted_text = tokenizer.decode(output[0], skip_special_tokens=True)\n"
   ]
  },
  {
   "cell_type": "code",
   "execution_count": null,
   "metadata": {},
   "outputs": [],
   "source": [
    "\n",
    "# Print the predicted PM2.5 value for the next day\n",
    "print(f\"Predicted PM2.5 for the next day: {predicted_text}\")"
   ]
  }
 ],
 "metadata": {
  "kernelspec": {
   "display_name": "base",
   "language": "python",
   "name": "python3"
  },
  "language_info": {
   "codemirror_mode": {
    "name": "ipython",
    "version": 3
   },
   "file_extension": ".py",
   "mimetype": "text/x-python",
   "name": "python",
   "nbconvert_exporter": "python",
   "pygments_lexer": "ipython3",
   "version": "3.11.5"
  }
 },
 "nbformat": 4,
 "nbformat_minor": 2
}
